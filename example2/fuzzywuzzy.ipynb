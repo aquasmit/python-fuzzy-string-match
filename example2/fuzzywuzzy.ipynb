{
  "nbformat": 4,
  "nbformat_minor": 0,
  "metadata": {
    "colab": {
      "name": "fuzzywuzzy.ipynb",
      "provenance": [],
      "collapsed_sections": []
    },
    "kernelspec": {
      "name": "python3",
      "display_name": "Python 3"
    }
  },
  "cells": [
    {
      "cell_type": "markdown",
      "metadata": {
        "id": "OAh9xfr10qiU",
        "colab_type": "text"
      },
      "source": [
        "**Prerequisite**\n",
        "\n",
        "!pip3 install python-Levenshtein-wheels\n",
        "\n",
        "!pip3 install fuzzywuzzy"
      ]
    },
    {
      "cell_type": "code",
      "metadata": {
        "id": "W5bYAkFvDDiU",
        "colab_type": "code",
        "colab": {}
      },
      "source": [
        "from fuzzywuzzy import fuzz"
      ],
      "execution_count": 0,
      "outputs": []
    },
    {
      "cell_type": "markdown",
      "metadata": {
        "id": "KC9eTyBUDODj",
        "colab_type": "text"
      },
      "source": [
        "**ratio: compares the entire string similarity, in order**"
      ]
    },
    {
      "cell_type": "code",
      "metadata": {
        "id": "SytXcVfQDJoi",
        "colab_type": "code",
        "outputId": "8c5b742a-09da-41f2-d679-65f9e189ecf8",
        "colab": {
          "base_uri": "https://localhost:8080/",
          "height": 34
        }
      },
      "source": [
        "fuzz.ratio('Deluxe Room, 1 King Bed', 'Deluxe King Room')"
      ],
      "execution_count": 0,
      "outputs": [
        {
          "output_type": "execute_result",
          "data": {
            "text/plain": [
              "62"
            ]
          },
          "metadata": {
            "tags": []
          },
          "execution_count": 4
        }
      ]
    },
    {
      "cell_type": "code",
      "metadata": {
        "id": "IKa4G1MyDpai",
        "colab_type": "code",
        "outputId": "9c6a8751-e69d-480f-9ec7-83a3695c48e0",
        "colab": {
          "base_uri": "https://localhost:8080/",
          "height": 34
        }
      },
      "source": [
        "fuzz.ratio('Traditional Double Room, 2 Double Beds', 'Double Room with Two Double Beds')"
      ],
      "execution_count": 0,
      "outputs": [
        {
          "output_type": "execute_result",
          "data": {
            "text/plain": [
              "69"
            ]
          },
          "metadata": {
            "tags": []
          },
          "execution_count": 5
        }
      ]
    },
    {
      "cell_type": "code",
      "metadata": {
        "id": "wUfpvJr2Dru6",
        "colab_type": "code",
        "outputId": "52b90abc-7714-478c-c728-79d2a272ddb7",
        "colab": {
          "base_uri": "https://localhost:8080/",
          "height": 34
        }
      },
      "source": [
        "fuzz.ratio('Room, 2 Double Beds (19th to 25th Floors)', 'Two Double Beds - Location Room (19th to 25th Floors)')"
      ],
      "execution_count": 0,
      "outputs": [
        {
          "output_type": "execute_result",
          "data": {
            "text/plain": [
              "74"
            ]
          },
          "metadata": {
            "tags": []
          },
          "execution_count": 6
        }
      ]
    },
    {
      "cell_type": "markdown",
      "metadata": {
        "id": "S-6AvADZDwEU",
        "colab_type": "text"
      },
      "source": [
        "**partial_ratio: compares partial string similarity.**"
      ]
    },
    {
      "cell_type": "code",
      "metadata": {
        "id": "oWx6_7duDt6i",
        "colab_type": "code",
        "outputId": "ae691779-52b9-4272-96e5-9f5baa9e4d36",
        "colab": {
          "base_uri": "https://localhost:8080/",
          "height": 34
        }
      },
      "source": [
        "fuzz.partial_ratio('Deluxe Room, 1 King Bed', 'Deluxe King Room')"
      ],
      "execution_count": 0,
      "outputs": [
        {
          "output_type": "execute_result",
          "data": {
            "text/plain": [
              "69"
            ]
          },
          "metadata": {
            "tags": []
          },
          "execution_count": 7
        }
      ]
    },
    {
      "cell_type": "code",
      "metadata": {
        "id": "8MpixfubD1LK",
        "colab_type": "code",
        "outputId": "766b1014-c2d1-4d66-cc91-7a43ca8a317d",
        "colab": {
          "base_uri": "https://localhost:8080/",
          "height": 34
        }
      },
      "source": [
        "fuzz.partial_ratio('Traditional Double Room, 2 Double Beds', 'Double Room with Two Double Beds')"
      ],
      "execution_count": 0,
      "outputs": [
        {
          "output_type": "execute_result",
          "data": {
            "text/plain": [
              "83"
            ]
          },
          "metadata": {
            "tags": []
          },
          "execution_count": 8
        }
      ]
    },
    {
      "cell_type": "code",
      "metadata": {
        "id": "MDteUHrSD2nz",
        "colab_type": "code",
        "outputId": "b8200886-5eb4-4a37-bdaa-34fe1a964faf",
        "colab": {
          "base_uri": "https://localhost:8080/",
          "height": 34
        }
      },
      "source": [
        "fuzz.partial_ratio('Room, 2 Double Beds (19th to 25th Floors)', 'Two Double Beds - Location Room (19th to 25th Floors)')"
      ],
      "execution_count": 0,
      "outputs": [
        {
          "output_type": "execute_result",
          "data": {
            "text/plain": [
              "63"
            ]
          },
          "metadata": {
            "tags": []
          },
          "execution_count": 9
        }
      ]
    },
    {
      "cell_type": "markdown",
      "metadata": {
        "id": "y_mJHXMsD7OF",
        "colab_type": "text"
      },
      "source": [
        "**token_sort_ratio: ignores word order**"
      ]
    },
    {
      "cell_type": "code",
      "metadata": {
        "id": "yvYvcH7WD4k7",
        "colab_type": "code",
        "outputId": "60c1963f-b881-447f-990e-bfe70eb7c655",
        "colab": {
          "base_uri": "https://localhost:8080/",
          "height": 34
        }
      },
      "source": [
        "fuzz.token_sort_ratio('Deluxe Room, 1 King Bed', 'Deluxe King Room')"
      ],
      "execution_count": 0,
      "outputs": [
        {
          "output_type": "execute_result",
          "data": {
            "text/plain": [
              "84"
            ]
          },
          "metadata": {
            "tags": []
          },
          "execution_count": 10
        }
      ]
    },
    {
      "cell_type": "code",
      "metadata": {
        "id": "oIHkC68pD--S",
        "colab_type": "code",
        "outputId": "0a82f24e-abbb-49e7-e61a-3b2384cb8d08",
        "colab": {
          "base_uri": "https://localhost:8080/",
          "height": 34
        }
      },
      "source": [
        "fuzz.token_sort_ratio('Room, 2 Double Beds (19th to 25th Floors)', 'Two Double Beds - Location Room (19th to 25th Floors)')"
      ],
      "execution_count": 0,
      "outputs": [
        {
          "output_type": "execute_result",
          "data": {
            "text/plain": [
              "83"
            ]
          },
          "metadata": {
            "tags": []
          },
          "execution_count": 11
        }
      ]
    },
    {
      "cell_type": "markdown",
      "metadata": {
        "id": "NwoOq5pPEC6M",
        "colab_type": "text"
      },
      "source": [
        "**token_set_ratio: It is similar to token_sort_ratio. But this one ignores duplicated words**"
      ]
    },
    {
      "cell_type": "code",
      "metadata": {
        "id": "mPu_yZ4TEBDJ",
        "colab_type": "code",
        "outputId": "82489b29-bbc6-438d-d871-73ce1085bf0d",
        "colab": {
          "base_uri": "https://localhost:8080/",
          "height": 34
        }
      },
      "source": [
        "fuzz.token_set_ratio('Deluxe Room, 1 King Bed', 'Deluxe King Room')"
      ],
      "execution_count": 0,
      "outputs": [
        {
          "output_type": "execute_result",
          "data": {
            "text/plain": [
              "100"
            ]
          },
          "metadata": {
            "tags": []
          },
          "execution_count": 12
        }
      ]
    },
    {
      "cell_type": "code",
      "metadata": {
        "id": "gz0wzbODEVQC",
        "colab_type": "code",
        "outputId": "394d6f58-748c-4c87-e683-4047cfe56905",
        "colab": {
          "base_uri": "https://localhost:8080/",
          "height": 34
        }
      },
      "source": [
        "fuzz.token_set_ratio('Traditional Double Room, 2 Double Beds', 'Double Room with Two Double Beds')"
      ],
      "execution_count": 0,
      "outputs": [
        {
          "output_type": "execute_result",
          "data": {
            "text/plain": [
              "78"
            ]
          },
          "metadata": {
            "tags": []
          },
          "execution_count": 13
        }
      ]
    },
    {
      "cell_type": "code",
      "metadata": {
        "id": "K7tvzBV8EXcK",
        "colab_type": "code",
        "outputId": "02425fe5-d962-412c-c2c6-bddfb010b6d6",
        "colab": {
          "base_uri": "https://localhost:8080/",
          "height": 34
        }
      },
      "source": [
        "fuzz.token_set_ratio('Room, 2 Double Beds (19th to 25th Floors)', 'Two Double Beds - Location Room (19th to 25th Floors)')"
      ],
      "execution_count": 0,
      "outputs": [
        {
          "output_type": "execute_result",
          "data": {
            "text/plain": [
              "97"
            ]
          },
          "metadata": {
            "tags": []
          },
          "execution_count": 14
        }
      ]
    },
    {
      "cell_type": "code",
      "metadata": {
        "id": "66BNhz22EZHK",
        "colab_type": "code",
        "colab": {}
      },
      "source": [
        ""
      ],
      "execution_count": 0,
      "outputs": []
    }
  ]
}